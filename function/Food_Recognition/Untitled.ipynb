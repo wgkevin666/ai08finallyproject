{
 "cells": [
  {
   "cell_type": "code",
   "execution_count": 1,
   "metadata": {},
   "outputs": [
    {
     "name": "stderr",
     "output_type": "stream",
     "text": [
      "Using TensorFlow backend.\n"
     ]
    }
   ],
   "source": [
    "import argparse\n",
    "import os\n",
    "import numpy as np\n",
    "import json\n",
    "from voc import parse_voc_annotation\n",
    "from yolo import create_yolov3_model, dummy_loss\n",
    "from generator import BatchGenerator\n",
    "from utils.utils import normalize, evaluate, makedirs\n",
    "from keras.callbacks import EarlyStopping, ReduceLROnPlateau\n",
    "from keras.optimizers import Adam\n",
    "from callbacks import CustomModelCheckpoint, CustomTensorBoard\n",
    "from utils.multi_gpu_model import multi_gpu_model\n",
    "import tensorflow as tf\n",
    "import keras\n",
    "from keras.models import load_model\n"
   ]
  }
 ],
 "metadata": {
  "kernelspec": {
   "display_name": "Python 3",
   "language": "python",
   "name": "python3"
  },
  "language_info": {
   "codemirror_mode": {
    "name": "ipython",
    "version": 3
   },
   "file_extension": ".py",
   "mimetype": "text/x-python",
   "name": "python",
   "nbconvert_exporter": "python",
   "pygments_lexer": "ipython3",
   "version": "3.7.9"
  }
 },
 "nbformat": 4,
 "nbformat_minor": 4
}
